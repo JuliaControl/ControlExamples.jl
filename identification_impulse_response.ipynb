{
 "cells": [
  {
   "cell_type": "code",
   "execution_count": null,
   "metadata": {},
   "outputs": [],
   "source": [
    "#using Pkg; Pkg.add(\"ControlSystemIdentification\"); Pkg.add(\"Plots\")"
   ]
  },
  {
   "cell_type": "markdown",
   "metadata": {},
   "source": [
    "In this notebook, we will explore impulse-response estimation using [ControlSystemIdentification.jl](https://github.com/baggepinnen/ControlSystemIdentification.jl)\n",
    "Before any identification can begin, we need to load all the relevant packages."
   ]
  },
  {
   "cell_type": "code",
   "execution_count": null,
   "metadata": {},
   "outputs": [],
   "source": [
    "using ControlSystemIdentification, ControlSystems, Plots\n",
    "using Random, LinearAlgebra\n",
    "default(size=(500,280))"
   ]
  },
  {
   "cell_type": "markdown",
   "metadata": {},
   "source": [
    "We start by creating a system to use as the subject of identification and some data to use for identification"
   ]
  },
  {
   "cell_type": "code",
   "execution_count": null,
   "metadata": {},
   "outputs": [],
   "source": [
    "T = 200\n",
    "h = 1   # This is the sample time\n",
    "t = h:h:T\n",
    "sim(sys,u) = lsim(sys, u, t)[1][:]\n",
    "sys = c2d(tf(1,[1,2*0.1,0.1]),h)\n",
    "\n",
    "u  = randn(length(t))\n",
    "y  = sim(sys, u)\n",
    "d = iddata(y,u,h)"
   ]
  },
  {
   "cell_type": "markdown",
   "metadata": {},
   "source": [
    "The main functionality is in the function `impulseest`, and it's corresponding plot function `impulseestplot`. Estimation is done by fitting a high-order FIR model on the form\n",
    "$$y_k = \\sum_{j=1}^{n} b_j u_{k-j}$$\n",
    "which when $n \\rightarrow \\infty$ can approximate any rational transfer function [(ref: Taylor series of rational function, Wikipedia)](https://en.wikipedia.org/wiki/Rational_function#Taylor_series)"
   ]
  },
  {
   "cell_type": "code",
   "execution_count": null,
   "metadata": {},
   "outputs": [],
   "source": [
    "impulseestplot(d, 50, lab=\"Estimate\")\n",
    "impulseplot!(sys,50, lab=\"True system\")"
   ]
  },
  {
   "cell_type": "markdown",
   "metadata": {},
   "source": [
    "That worked very well, but our data did not have any noise at all :/ If we add some noise, things will look a bit worse, but you get the deal"
   ]
  },
  {
   "cell_type": "code",
   "execution_count": null,
   "metadata": {},
   "outputs": [],
   "source": [
    "yn = y + 1randn(size(y))\n",
    "dn = iddata(yn,u,h)\n",
    "p1 = impulseestplot(dn,50, lab=\"Estimate\")\n",
    "impulseplot!(sys,50, lab=\"True system\")\n",
    "p2 = plot([yn y], lab=[\"Noisy signal\" \"Clean signal\"])\n",
    "plot(p1,p2, size=(800,300))"
   ]
  },
  {
   "cell_type": "markdown",
   "metadata": {},
   "source": [
    "Not too bad! The black dashed lines around zero indicate the 95% confidence bounds for the impulse-response coefficients.\n",
    "\n",
    "Actually, let's hit it with a lot of noise just to see what happens"
   ]
  },
  {
   "cell_type": "code",
   "execution_count": null,
   "metadata": {},
   "outputs": [],
   "source": [
    "yn = y + 10randn(size(y))\n",
    "dn = iddata(yn,u,h)\n",
    "p1 = impulseestplot(dn,50, lab=\"Estimate\")\n",
    "impulseplot!(sys,50, lab=\"True system\")\n",
    "p2 = plot([yn y], lab=[\"Noisy signal\" \"Clean signal\"])\n",
    "plot(p1,p2, size=(800,300))"
   ]
  },
  {
   "cell_type": "markdown",
   "metadata": {},
   "source": [
    "Yeah that sucks, but what did you expect? Does it at least get better with more data?"
   ]
  },
  {
   "cell_type": "code",
   "execution_count": null,
   "metadata": {},
   "outputs": [],
   "source": [
    "T = 2000\n",
    "h = 1   # This is the sample time\n",
    "t = h:h:T\n",
    "\n",
    "u  = randn(length(t))\n",
    "y  = sim(sys, u);\n",
    "yn = y + 10randn(size(y))\n",
    "dn = iddata(yn,u,h)\n",
    "p1 = impulseestplot(dn, 50, lab=\"Estimate\")\n",
    "impulseplot!(sys,50, lab=\"True system\")\n",
    "p2 = plot([yn y], lab=[\"Noisy signal\" \"Clean signal\"])\n",
    "plot(p1,p2, size=(800,300))"
   ]
  },
  {
   "cell_type": "markdown",
   "metadata": {},
   "source": [
    "It did"
   ]
  }
 ],
 "metadata": {
  "kernelspec": {
   "display_name": "Julia 1.6.0",
   "language": "julia",
   "name": "julia-1.6"
  },
  "language_info": {
   "codemirror_mode": {
    "name": "ipython",
    "version": 3
   },
   "file_extension": ".py",
   "mimetype": "text/x-python",
   "name": "python",
   "nbconvert_exporter": "python",
   "pygments_lexer": "ipython3",
   "version": "3.8.5"
  }
 },
 "nbformat": 4,
 "nbformat_minor": 2
}
