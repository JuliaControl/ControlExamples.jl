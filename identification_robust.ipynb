{
 "cells": [
  {
   "cell_type": "markdown",
   "metadata": {},
   "source": [
    "# Robust estimation\n",
    "In this notebook we will explore the effects of really nasty noise on the estimation of LTI models. α-Sub Gaussian noise is both highly impulsive and correlated in time, making it the perfect candidate to corrupt our simulated measurement signals with. This kind of noise is common in shallow seawater as the common snapping shrimp produces noise with approximately this distribution."
   ]
  },
  {
   "cell_type": "markdown",
   "metadata": {},
   "source": [
    "We start by generating some signals and some noise"
   ]
  },
  {
   "cell_type": "code",
   "execution_count": null,
   "metadata": {},
   "outputs": [],
   "source": [
    "using ControlSystemIdentification, ControlSystems, AlphaStableDistributions, DSP, TotalLeastSquares, Plots, Statistics, Random\n",
    "pyplot(show=false)\n",
    "Random.seed!(0)\n",
    "N = 10_000   # Number of samples\n",
    "f = 100_000  # Sampling frequency\n",
    "t = LinRange(0,N/f,N)\n",
    "\n",
    "F = [2000, 8000, 10000, 15000, 25000] # Vector of frequencies that make up the signal\n",
    "na = 2length(F) # The order of AR models we're going to fit. Two poles per frequency peak in the spectrum are required.\n",
    "y = sum(sin.(2π*f .* t) for f in F); # The clean signal"
   ]
  },
  {
   "cell_type": "markdown",
   "metadata": {},
   "source": [
    "Below, we draw a sample from the `AlphaSubGaussian` distribution with default parameters and plot this noise together with the clean signal."
   ]
  },
  {
   "cell_type": "code",
   "execution_count": null,
   "metadata": {},
   "outputs": [],
   "source": [
    "e = rand(AlphaSubGaussian(n=N))\n",
    "e ./= std(e)\n",
    "plot([y e], lab=[\"y\" \"e\"])"
   ]
  },
  {
   "cell_type": "markdown",
   "metadata": {},
   "source": [
    "Next, we estimate AR models in a number of different ways and plot their spectra. We do tihs for several different intensities of the noise.In order to not clutter the plot too much, I have commented some of the lines, feel free to reproduce the plot with those models added."
   ]
  },
  {
   "cell_type": "code",
   "execution_count": null,
   "metadata": {},
   "outputs": [],
   "source": [
    "σvec = exp10.(LinRange(-4, 0, 9)) # Vector of noise intensities\n",
    "figs = map(σvec) do σ\n",
    "    @show σ\n",
    "    yn = y + σ*e # Form the noisy signal\n",
    "\n",
    "    P = welch_pgram(yn, fs=f) # Estimate Welch spectrum\n",
    "    freqs = Vector(P.freq)\n",
    "    fig = plot(freqs, .√P.power, yscale=:log10, lab=\"Welch spectrum\", title=\"Noise: $(round(σ, sigdigits=2))\", alpha=0.6)\n",
    "    vline!(F, l=(:red, :dash, 0.4), lab=\"True frequencies\")\n",
    "\n",
    "    d = iddata(yn, 1/f)\n",
    "    Gls,_ = ar(d, na)\n",
    "    b = vec(bode(Gls, 2pi .* freqs)[1])\n",
    "    plot!(freqs, b./N, lab=\"LS\", c=:orange)\n",
    "\n",
    "\n",
    "    yn = lowrankfilter(yn, 80)\n",
    "\n",
    "    Gtls,_ = ar(d, na, estimator=tls)\n",
    "    b = vec(bode(Gtls, 2pi .* freqs)[1])\n",
    "    plot!(freqs, b./N, lab=\"TLS*\", c=:magenta)\n",
    "\n",
    "    robust = (A,y)->TotalLeastSquares.rtls(A,y,iters=400, tol=2e-6)\n",
    "    Grtls,_ = ar(d, na, estimator=robust)\n",
    "    b = vec(bode(Grtls, 2pi .* freqs)[1])\n",
    "    plot!(freqs, b./N, lab=\"RTLS*\", c=:green)\n",
    "\n",
    "    fig\n",
    "end\n",
    "plot(figs..., size=(1200,600))"
   ]
  },
  {
   "cell_type": "markdown",
   "metadata": {},
   "source": [
    "As we can see, the standard least-squares (LS) estimate does not model the signal very well. Total least-squares `tls` does a better job, and robust estimates using robust total least squares `rtls` does even better. Notice also the line `yn = lowrankfilter(yn, 50)`. This filters the signal by forming a lag-embedding `H` and estimating a separation of the embedding matrix into a low-rank matrix and a sparse noise matrix `H = L + S`. You can try removing tihs line and see how the performance degrades."
   ]
  },
  {
   "cell_type": "markdown",
   "metadata": {},
   "source": [
    "This `lowrankfilter` is actually really neat, we can see how well it removes the noise from the signal as a function of the embedding dimension `n`:"
   ]
  },
  {
   "cell_type": "code",
   "execution_count": null,
   "metadata": {},
   "outputs": [],
   "source": [
    "yn = y + e # Form the noisy signal\n",
    "e0 = ControlSystemIdentification.rms(y-yn) # This is the error without filtering"
   ]
  },
  {
   "cell_type": "code",
   "execution_count": null,
   "metadata": {},
   "outputs": [],
   "source": [
    "nvec = round.(Int, exp10.(LinRange(1, 2.8, 12)))\n",
    "fits = map(nvec) do n\n",
    "    yh = lowrankfilter(yn, n, tol=1e-3)\n",
    "    ControlSystemIdentification.rms(y-yh)\n",
    "end;"
   ]
  },
  {
   "cell_type": "code",
   "execution_count": null,
   "metadata": {},
   "outputs": [],
   "source": [
    "scatter(nvec,fits, ylabel=\"RMS error\", xlabel=\"Embedding dim\")\n",
    "hline!([e0], lab=\"Unfiltered\", ylims=(0,Inf))"
   ]
  },
  {
   "cell_type": "markdown",
   "metadata": {},
   "source": [
    "We see that the error goes down rapidly in the beginning. One period of the smallest frequency must fit comfortably within the embedding vector, for our signal, this will be "
   ]
  },
  {
   "cell_type": "code",
   "execution_count": null,
   "metadata": {},
   "outputs": [],
   "source": [
    "f/minimum(F)"
   ]
  },
  {
   "cell_type": "markdown",
   "metadata": {},
   "source": [
    "We can also visualize the signals"
   ]
  },
  {
   "cell_type": "code",
   "execution_count": null,
   "metadata": {},
   "outputs": [],
   "source": [
    "yh = lowrankfilter(yn, 200)\n",
    "\n",
    "maxind = findmax(abs.(yn))[2]\n",
    "plotinds = max(1,maxind-100):min(N, maxind+100)\n",
    "plot([y yn yh][plotinds,:], lab=[\"Clean\" \"Noisy\" \"Filtered\"], alpha=0.5)"
   ]
  },
  {
   "cell_type": "markdown",
   "metadata": {},
   "source": [
    "We chose a small number of indices to plot, centered around the peak noise value. There should be very little difference between the clean signal and the filtered signal, while the noisy signal can deviate dramatically.\n",
    "\n",
    "Te increased performance is, however, not for free. Increasing the dimension of the lag embedding causes the computation time to grow roughly as $\\mathcal{O}(n^{1.5})$, let's have a look"
   ]
  },
  {
   "cell_type": "code",
   "execution_count": null,
   "metadata": {},
   "outputs": [],
   "source": [
    "nvec = round.(Int, exp10.(LinRange(1, 3, 12)))\n",
    "times = map(nvec) do n\n",
    "    @elapsed lowrankfilter(yn, n, tol=1e-3)\n",
    "end;"
   ]
  },
  {
   "cell_type": "code",
   "execution_count": null,
   "metadata": {},
   "outputs": [],
   "source": [
    "A = log.(nvec).^((0:1)')\n",
    "fit = (A\\log.(times))\n",
    "@show fit[2]\n",
    "plot(nvec, times, xscale=:log10, yscale=:log10, ylabel=\"Execution time\", xlabel=\"Embedding dim\")\n",
    "plot!(nvec, exp.(A*fit), lab=\"\")"
   ]
  },
  {
   "cell_type": "markdown",
   "metadata": {},
   "source": [
    "That was all for today, happy robust filtering and estimation!"
   ]
  }
 ],
 "metadata": {
  "kernelspec": {
   "display_name": "Julia 1.6.0",
   "language": "julia",
   "name": "julia-1.6"
  },
  "language_info": {
   "file_extension": ".jl",
   "mimetype": "application/julia",
   "name": "julia",
   "version": "1.3.1"
  }
 },
 "nbformat": 4,
 "nbformat_minor": 3
}